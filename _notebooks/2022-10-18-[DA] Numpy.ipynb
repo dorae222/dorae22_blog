{
 "cells": [
  {
   "cell_type": "markdown",
   "id": "6d72ef39",
   "metadata": {},
   "source": [
    "# \"[DA] Numpy\"\n",
    "> \"Numpy 기본\"\n",
    "\n",
    "- toc: true\n",
    "- branch: master\n",
    "- badges: true\n",
    "- comments: true\n",
    "- categories: [numpy]\n",
    "- author: 도형준"
   ]
  },
  {
   "cell_type": "markdown",
   "id": "604d2b2c",
   "metadata": {},
   "source": [
    "# Numpy"
   ]
  },
  {
   "cell_type": "markdown",
   "id": "06c24085",
   "metadata": {},
   "source": [
    "- Numeriacal Python\n",
    "- 파이썬 머신러닝 패키지인 scikit-learn에서 기본 데이터 구조로 사용되어 Numpy 배열 형태의 데이터를 사용\n",
    "- 파이썬 기반 데이터 분석 환경에서 행렬 및 벡터 연산에 필요한 다양한 함수를 제공\n",
    "- 메모리 소모가 많은 반복문 없이 전체 데이터 배열에 빠른 연산을 처리할 수 있는 표준 수학 함수\n",
    "> 배열 : 동일한 특성(데이터 타입) 및 일정한 규칙을 가지는 여러 개의 요소가 나열되어 있는 데이터 집합\n",
    "- 파이썬 list 객체를 사용할 때 보다 Numpy의 ndarray 객체를 사용하면 연산 속도가 개선되어 더 많은 데이터를 더 빠르게 처리"
   ]
  },
  {
   "cell_type": "code",
   "execution_count": 3,
   "id": "9bbd663d",
   "metadata": {},
   "outputs": [],
   "source": [
    "# 라이브러리 가져오기: numpy\n",
    "# as 별칭 선언 이후에는 별칭으로 해당 라이브러리의 기능을 호출 할 수 있다.\n",
    "# import 라이브러리명 as 별칭\n",
    "import numpy as np"
   ]
  },
  {
   "cell_type": "code",
   "execution_count": 2,
   "id": "03d38193",
   "metadata": {},
   "outputs": [
    {
     "data": {
      "text/plain": [
       "'1.21.5'"
      ]
     },
     "execution_count": 2,
     "metadata": {},
     "output_type": "execute_result"
    }
   ],
   "source": [
    "# 라이브러리 버전 확인하기\n",
    "numpy.__version__"
   ]
  },
  {
   "cell_type": "markdown",
   "id": "ed71fba3",
   "metadata": {},
   "source": [
    "## Numpy 배열 : numpy.ndarray"
   ]
  },
  {
   "cell_type": "markdown",
   "id": "e69f4745",
   "metadata": {},
   "source": [
    "- 다차원 배열(1차원, 2차원, 3차원)으로 입체적인 데이터 구조를 구성하고 여러 개의 데이터 방향을 가진다.\n",
    "- 배열 속성 : shape, ndim, dtype 등\n",
    "- 데이터 방향 : axis = 0(행/높이), 1(열/폭), 2(채널/깊이)\n",
    "- 사진을 집어넣을때는 img태그 를 사용합니다.\n",
    "\n",
    "<img src='img/nparr1.jpg' width='600' height='400' align='left'>"
   ]
  },
  {
   "cell_type": "code",
   "execution_count": null,
   "id": "fb82ffd1",
   "metadata": {},
   "outputs": [],
   "source": []
  },
  {
   "cell_type": "code",
   "execution_count": null,
   "id": "35e84e65",
   "metadata": {},
   "outputs": [],
   "source": []
  }
 ],
 "metadata": {
  "kernelspec": {
   "display_name": "Python 3 (ipykernel)",
   "language": "python",
   "name": "python3"
  },
  "language_info": {
   "codemirror_mode": {
    "name": "ipython",
    "version": 3
   },
   "file_extension": ".py",
   "mimetype": "text/x-python",
   "name": "python",
   "nbconvert_exporter": "python",
   "pygments_lexer": "ipython3",
   "version": "3.9.12"
  },
  "toc": {
   "base_numbering": 1,
   "nav_menu": {},
   "number_sections": true,
   "sideBar": true,
   "skip_h1_title": false,
   "title_cell": "Table of Contents",
   "title_sidebar": "Contents",
   "toc_cell": false,
   "toc_position": {},
   "toc_section_display": true,
   "toc_window_display": false
  }
 },
 "nbformat": 4,
 "nbformat_minor": 5
}
